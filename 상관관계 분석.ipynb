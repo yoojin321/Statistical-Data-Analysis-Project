{
 "cells": [
  {
   "cell_type": "markdown",
   "id": "976343f4",
   "metadata": {},
   "source": [
    "# 관광명소"
   ]
  },
  {
   "cell_type": "code",
   "execution_count": 4,
   "id": "b60a56e7-e0d8-44b8-a4a0-b5cdd8dfffbf",
   "metadata": {},
   "outputs": [],
   "source": [
    "import numpy as np\n",
    "import pandas as pd"
   ]
  },
  {
   "cell_type": "code",
   "execution_count": 29,
   "id": "58f9af66",
   "metadata": {},
   "outputs": [],
   "source": [
    "area = pd.read_csv(\"data/area_edit.csv\", encoding='utf-8')\n",
    "visitors = pd.read_csv(\"data\\sum_visitors.csv\", encoding='utf-8')"
   ]
  },
  {
   "cell_type": "code",
   "execution_count": 3,
   "id": "fe5f7b5a",
   "metadata": {},
   "outputs": [
    {
     "data": {
      "text/html": [
       "<div>\n",
       "<style scoped>\n",
       "    .dataframe tbody tr th:only-of-type {\n",
       "        vertical-align: middle;\n",
       "    }\n",
       "\n",
       "    .dataframe tbody tr th {\n",
       "        vertical-align: top;\n",
       "    }\n",
       "\n",
       "    .dataframe thead th {\n",
       "        text-align: right;\n",
       "    }\n",
       "</style>\n",
       "<table border=\"1\" class=\"dataframe\">\n",
       "  <thead>\n",
       "    <tr style=\"text-align: right;\">\n",
       "      <th></th>\n",
       "      <th>Unnamed: 0</th>\n",
       "      <th>지역명</th>\n",
       "      <th>관광지 수</th>\n",
       "    </tr>\n",
       "  </thead>\n",
       "  <tbody>\n",
       "    <tr>\n",
       "      <th>0</th>\n",
       "      <td>0</td>\n",
       "      <td>강원특별자치도 강릉시</td>\n",
       "      <td>369</td>\n",
       "    </tr>\n",
       "    <tr>\n",
       "      <th>1</th>\n",
       "      <td>1</td>\n",
       "      <td>강원특별자치도 고성군</td>\n",
       "      <td>142</td>\n",
       "    </tr>\n",
       "    <tr>\n",
       "      <th>2</th>\n",
       "      <td>2</td>\n",
       "      <td>강원특별자치도 동해시</td>\n",
       "      <td>91</td>\n",
       "    </tr>\n",
       "    <tr>\n",
       "      <th>3</th>\n",
       "      <td>3</td>\n",
       "      <td>강원특별자치도 삼척시</td>\n",
       "      <td>179</td>\n",
       "    </tr>\n",
       "    <tr>\n",
       "      <th>4</th>\n",
       "      <td>4</td>\n",
       "      <td>강원특별자치도 속초시</td>\n",
       "      <td>109</td>\n",
       "    </tr>\n",
       "  </tbody>\n",
       "</table>\n",
       "</div>"
      ],
      "text/plain": [
       "   Unnamed: 0          지역명  관광지 수\n",
       "0           0  강원특별자치도 강릉시    369\n",
       "1           1  강원특별자치도 고성군    142\n",
       "2           2  강원특별자치도 동해시     91\n",
       "3           3  강원특별자치도 삼척시    179\n",
       "4           4  강원특별자치도 속초시    109"
      ]
     },
     "execution_count": 3,
     "metadata": {},
     "output_type": "execute_result"
    }
   ],
   "source": [
    "area.head()"
   ]
  },
  {
   "cell_type": "code",
   "execution_count": 4,
   "id": "313d2dff",
   "metadata": {},
   "outputs": [
    {
     "data": {
      "text/html": [
       "<div>\n",
       "<style scoped>\n",
       "    .dataframe tbody tr th:only-of-type {\n",
       "        vertical-align: middle;\n",
       "    }\n",
       "\n",
       "    .dataframe tbody tr th {\n",
       "        vertical-align: top;\n",
       "    }\n",
       "\n",
       "    .dataframe thead th {\n",
       "        text-align: right;\n",
       "    }\n",
       "</style>\n",
       "<table border=\"1\" class=\"dataframe\">\n",
       "  <thead>\n",
       "    <tr style=\"text-align: right;\">\n",
       "      <th></th>\n",
       "      <th>지자체</th>\n",
       "      <th>방문자수</th>\n",
       "    </tr>\n",
       "  </thead>\n",
       "  <tbody>\n",
       "    <tr>\n",
       "      <th>0</th>\n",
       "      <td>강원특별자치도 강릉시</td>\n",
       "      <td>100420235</td>\n",
       "    </tr>\n",
       "    <tr>\n",
       "      <th>1</th>\n",
       "      <td>강원특별자치도 고성군</td>\n",
       "      <td>21565109</td>\n",
       "    </tr>\n",
       "    <tr>\n",
       "      <th>2</th>\n",
       "      <td>강원특별자치도 동해시</td>\n",
       "      <td>36371996</td>\n",
       "    </tr>\n",
       "    <tr>\n",
       "      <th>3</th>\n",
       "      <td>강원특별자치도 삼척시</td>\n",
       "      <td>28384703</td>\n",
       "    </tr>\n",
       "    <tr>\n",
       "      <th>4</th>\n",
       "      <td>강원특별자치도 속초시</td>\n",
       "      <td>50236736</td>\n",
       "    </tr>\n",
       "  </tbody>\n",
       "</table>\n",
       "</div>"
      ],
      "text/plain": [
       "           지자체       방문자수\n",
       "0  강원특별자치도 강릉시  100420235\n",
       "1  강원특별자치도 고성군   21565109\n",
       "2  강원특별자치도 동해시   36371996\n",
       "3  강원특별자치도 삼척시   28384703\n",
       "4  강원특별자치도 속초시   50236736"
      ]
     },
     "execution_count": 4,
     "metadata": {},
     "output_type": "execute_result"
    }
   ],
   "source": [
    "visitors.head()"
   ]
  },
  {
   "cell_type": "code",
   "execution_count": 30,
   "id": "d0f6a0f0",
   "metadata": {},
   "outputs": [],
   "source": [
    "# 'Unnamed: 0' 열 제거\n",
    "area = area.drop(columns=['Unnamed: 0'])\n",
    "\n",
    "# 열 이름 변경 (필요시)\n",
    "area.rename(columns={'지역명': 'region', '관광지 수': 'average_search_rank'}, inplace=True)\n",
    "visitors.rename(columns={'지자체': 'region', '방문자수': 'visitor_count'}, inplace=True)\n",
    "\n",
    "# 데이터 병합\n",
    "merged_df = pd.merge(area, visitors, on='region')\n",
    "\n",
    "# 병합된 데이터 확인\n",
    "merged_df.head()\n",
    "merged_df = merged_df.dropna()"
   ]
  },
  {
   "cell_type": "code",
   "execution_count": 7,
   "id": "8e0b1232",
   "metadata": {},
   "outputs": [
    {
     "name": "stdout",
     "output_type": "stream",
     "text": [
      "Correlation matrix:\n"
     ]
    },
    {
     "data": {
      "text/html": [
       "<div>\n",
       "<style scoped>\n",
       "    .dataframe tbody tr th:only-of-type {\n",
       "        vertical-align: middle;\n",
       "    }\n",
       "\n",
       "    .dataframe tbody tr th {\n",
       "        vertical-align: top;\n",
       "    }\n",
       "\n",
       "    .dataframe thead th {\n",
       "        text-align: right;\n",
       "    }\n",
       "</style>\n",
       "<table border=\"1\" class=\"dataframe\">\n",
       "  <thead>\n",
       "    <tr style=\"text-align: right;\">\n",
       "      <th></th>\n",
       "      <th>average_search_rank</th>\n",
       "      <th>visitor_count</th>\n",
       "    </tr>\n",
       "  </thead>\n",
       "  <tbody>\n",
       "    <tr>\n",
       "      <th>average_search_rank</th>\n",
       "      <td>1.000000</td>\n",
       "      <td>0.068465</td>\n",
       "    </tr>\n",
       "    <tr>\n",
       "      <th>visitor_count</th>\n",
       "      <td>0.068465</td>\n",
       "      <td>1.000000</td>\n",
       "    </tr>\n",
       "  </tbody>\n",
       "</table>\n",
       "</div>"
      ],
      "text/plain": [
       "                     average_search_rank  visitor_count\n",
       "average_search_rank             1.000000       0.068465\n",
       "visitor_count                   0.068465       1.000000"
      ]
     },
     "execution_count": 7,
     "metadata": {},
     "output_type": "execute_result"
    }
   ],
   "source": [
    "# 상관관계 계산=음의 상관관계\n",
    "correlation_matrix = merged_df[['average_search_rank', 'visitor_count']].corr()\n",
    "\n",
    "print(\"Correlation matrix:\")\n",
    "correlation_matrix.head()\n"
   ]
  },
  {
   "cell_type": "code",
   "execution_count": 31,
   "id": "25782888",
   "metadata": {},
   "outputs": [
    {
     "name": "stdout",
     "output_type": "stream",
     "text": [
      "0.39420887495117274\n",
      "0.06846502966944251\n"
     ]
    }
   ],
   "source": [
    "# 관광명소 상관분석\n",
    "from scipy.stats import pearsonr\n",
    "\n",
    "correlation, p_value = pearsonr(merged_df['average_search_rank'], merged_df['visitor_count'])\n",
    "\n",
    "print(p_value)\n",
    "print(correlation)"
   ]
  },
  {
   "cell_type": "markdown",
   "id": "849cca18",
   "metadata": {},
   "source": [
    "# 국내여행횟수"
   ]
  },
  {
   "cell_type": "code",
   "execution_count": 9,
   "id": "12dd908e",
   "metadata": {},
   "outputs": [],
   "source": [
    "Number = pd.read_csv(\"data\\국내관광여행횟수_수정본.csv\", encoding='utf-8')\n",
    "visitors = pd.read_csv(\"data\\sum_visitors.csv\", encoding='utf-8')"
   ]
  },
  {
   "cell_type": "code",
   "execution_count": 10,
   "id": "bc10255a",
   "metadata": {},
   "outputs": [
    {
     "data": {
      "text/html": [
       "<div>\n",
       "<style scoped>\n",
       "    .dataframe tbody tr th:only-of-type {\n",
       "        vertical-align: middle;\n",
       "    }\n",
       "\n",
       "    .dataframe tbody tr th {\n",
       "        vertical-align: top;\n",
       "    }\n",
       "\n",
       "    .dataframe thead th {\n",
       "        text-align: right;\n",
       "    }\n",
       "</style>\n",
       "<table border=\"1\" class=\"dataframe\">\n",
       "  <thead>\n",
       "    <tr style=\"text-align: right;\">\n",
       "      <th></th>\n",
       "      <th>행정구역별(1)</th>\n",
       "      <th>인구 1인당 여행횟수 (회)</th>\n",
       "      <th>관광자 1인당 여행횟수 (회)</th>\n",
       "    </tr>\n",
       "  </thead>\n",
       "  <tbody>\n",
       "    <tr>\n",
       "      <th>0</th>\n",
       "      <td>서울특별시</td>\n",
       "      <td>3.3</td>\n",
       "      <td>4.9</td>\n",
       "    </tr>\n",
       "    <tr>\n",
       "      <th>1</th>\n",
       "      <td>부산광역시</td>\n",
       "      <td>3.9</td>\n",
       "      <td>6.1</td>\n",
       "    </tr>\n",
       "    <tr>\n",
       "      <th>2</th>\n",
       "      <td>대구광역시</td>\n",
       "      <td>3.9</td>\n",
       "      <td>6.0</td>\n",
       "    </tr>\n",
       "    <tr>\n",
       "      <th>3</th>\n",
       "      <td>인천광역시</td>\n",
       "      <td>3.1</td>\n",
       "      <td>4.9</td>\n",
       "    </tr>\n",
       "    <tr>\n",
       "      <th>4</th>\n",
       "      <td>광주광역시</td>\n",
       "      <td>4.2</td>\n",
       "      <td>5.9</td>\n",
       "    </tr>\n",
       "  </tbody>\n",
       "</table>\n",
       "</div>"
      ],
      "text/plain": [
       "  행정구역별(1)  인구 1인당 여행횟수 (회)  관광자 1인당 여행횟수 (회)\n",
       "0    서울특별시              3.3               4.9\n",
       "1    부산광역시              3.9               6.1\n",
       "2    대구광역시              3.9               6.0\n",
       "3    인천광역시              3.1               4.9\n",
       "4    광주광역시              4.2               5.9"
      ]
     },
     "execution_count": 10,
     "metadata": {},
     "output_type": "execute_result"
    }
   ],
   "source": [
    "Number.head()"
   ]
  },
  {
   "cell_type": "code",
   "execution_count": 11,
   "id": "7e6a0c24",
   "metadata": {},
   "outputs": [],
   "source": [
    "visitors['지자체']=visitors['지자체'].str.split(' ').str[0]"
   ]
  },
  {
   "cell_type": "code",
   "execution_count": 12,
   "id": "d41a60d6",
   "metadata": {},
   "outputs": [],
   "source": [
    "# 열 이름 변경 (필요시)\n",
    "Number.rename(columns={'행정구역별(1)': 'region','인구 1인당 여행횟수 (회)': 'Number of trips per population', '관광자 1인당 여행횟수 (회)': 'Number of trips per tourist'}, inplace=True)\n",
    "visitors.rename(columns={'지자체': 'region', '방문자수': 'visitor_count'}, inplace=True)\n",
    "\n",
    "# 데이터 병합\n",
    "merged_df = pd.merge(Number, visitors, on='region')\n",
    "\n",
    "# 병합된 데이터 확인\n",
    "merged_df.head()\n",
    "merged_df = merged_df.dropna()"
   ]
  },
  {
   "cell_type": "code",
   "execution_count": 13,
   "id": "1484c73e",
   "metadata": {},
   "outputs": [
    {
     "name": "stdout",
     "output_type": "stream",
     "text": [
      "0.4382053548152632\n",
      "-0.06603917195117928\n"
     ]
    }
   ],
   "source": [
    "#국내여행횟수 상관분석\n",
    "from scipy.stats import pearsonr\n",
    "\n",
    "correlation, p_value = pearsonr(merged_df['Number of trips per tourist'], merged_df['visitor_count'])\n",
    "\n",
    "print(p_value)\n",
    "print(correlation)"
   ]
  },
  {
   "cell_type": "markdown",
   "id": "438534bf",
   "metadata": {},
   "source": [
    "# 숙박업소"
   ]
  },
  {
   "cell_type": "code",
   "execution_count": 14,
   "id": "1fac98c9",
   "metadata": {},
   "outputs": [],
   "source": [
    "hotels = pd.read_csv(\"data/grouped_hotel.csv\", encoding='utf-8')\n",
    "visitors = pd.read_csv(\"data\\sum_visitors.csv\", encoding='utf-8')"
   ]
  },
  {
   "cell_type": "code",
   "execution_count": 15,
   "id": "fe14cd1c",
   "metadata": {},
   "outputs": [],
   "source": [
    "hotels['지역명'] = hotels['지역명'].str.replace('도 ','도  ')\n",
    "hotels['지역명'] = hotels['지역명'].str.strip()"
   ]
  },
  {
   "cell_type": "code",
   "execution_count": 16,
   "id": "67570bc4",
   "metadata": {},
   "outputs": [
    {
     "data": {
      "text/html": [
       "<div>\n",
       "<style scoped>\n",
       "    .dataframe tbody tr th:only-of-type {\n",
       "        vertical-align: middle;\n",
       "    }\n",
       "\n",
       "    .dataframe tbody tr th {\n",
       "        vertical-align: top;\n",
       "    }\n",
       "\n",
       "    .dataframe thead th {\n",
       "        text-align: right;\n",
       "    }\n",
       "</style>\n",
       "<table border=\"1\" class=\"dataframe\">\n",
       "  <thead>\n",
       "    <tr style=\"text-align: right;\">\n",
       "      <th></th>\n",
       "      <th>지역명</th>\n",
       "      <th>호텔 개수</th>\n",
       "    </tr>\n",
       "  </thead>\n",
       "  <tbody>\n",
       "    <tr>\n",
       "      <th>0</th>\n",
       "      <td>강원특별자치도   강릉시</td>\n",
       "      <td>718</td>\n",
       "    </tr>\n",
       "    <tr>\n",
       "      <th>1</th>\n",
       "      <td>강원특별자치도   고성군</td>\n",
       "      <td>229</td>\n",
       "    </tr>\n",
       "    <tr>\n",
       "      <th>2</th>\n",
       "      <td>강원특별자치도  동해시</td>\n",
       "      <td>115</td>\n",
       "    </tr>\n",
       "    <tr>\n",
       "      <th>3</th>\n",
       "      <td>강원특별자치도   삼척시</td>\n",
       "      <td>177</td>\n",
       "    </tr>\n",
       "    <tr>\n",
       "      <th>4</th>\n",
       "      <td>강원특별자치도   속초시</td>\n",
       "      <td>294</td>\n",
       "    </tr>\n",
       "  </tbody>\n",
       "</table>\n",
       "</div>"
      ],
      "text/plain": [
       "             지역명  호텔 개수\n",
       "0  강원특별자치도   강릉시    718\n",
       "1  강원특별자치도   고성군    229\n",
       "2   강원특별자치도  동해시    115\n",
       "3  강원특별자치도   삼척시    177\n",
       "4  강원특별자치도   속초시    294"
      ]
     },
     "execution_count": 16,
     "metadata": {},
     "output_type": "execute_result"
    }
   ],
   "source": [
    "hotels.head()"
   ]
  },
  {
   "cell_type": "code",
   "execution_count": 17,
   "id": "6dccbe94",
   "metadata": {},
   "outputs": [
    {
     "data": {
      "text/html": [
       "<div>\n",
       "<style scoped>\n",
       "    .dataframe tbody tr th:only-of-type {\n",
       "        vertical-align: middle;\n",
       "    }\n",
       "\n",
       "    .dataframe tbody tr th {\n",
       "        vertical-align: top;\n",
       "    }\n",
       "\n",
       "    .dataframe thead th {\n",
       "        text-align: right;\n",
       "    }\n",
       "</style>\n",
       "<table border=\"1\" class=\"dataframe\">\n",
       "  <thead>\n",
       "    <tr style=\"text-align: right;\">\n",
       "      <th></th>\n",
       "      <th>region</th>\n",
       "      <th>hotels_count</th>\n",
       "      <th>visitor_count</th>\n",
       "    </tr>\n",
       "  </thead>\n",
       "  <tbody>\n",
       "    <tr>\n",
       "      <th>63</th>\n",
       "      <td>광주광역시 광산구</td>\n",
       "      <td>85.0</td>\n",
       "      <td>128628996</td>\n",
       "    </tr>\n",
       "    <tr>\n",
       "      <th>64</th>\n",
       "      <td>광주광역시 남구</td>\n",
       "      <td>16.0</td>\n",
       "      <td>49584129</td>\n",
       "    </tr>\n",
       "    <tr>\n",
       "      <th>65</th>\n",
       "      <td>광주광역시 동구</td>\n",
       "      <td>51.0</td>\n",
       "      <td>59873785</td>\n",
       "    </tr>\n",
       "    <tr>\n",
       "      <th>66</th>\n",
       "      <td>광주광역시 북구</td>\n",
       "      <td>71.0</td>\n",
       "      <td>133498437</td>\n",
       "    </tr>\n",
       "    <tr>\n",
       "      <th>67</th>\n",
       "      <td>광주광역시 서구</td>\n",
       "      <td>100.0</td>\n",
       "      <td>113391932</td>\n",
       "    </tr>\n",
       "  </tbody>\n",
       "</table>\n",
       "</div>"
      ],
      "text/plain": [
       "       region  hotels_count  visitor_count\n",
       "63  광주광역시 광산구          85.0      128628996\n",
       "64   광주광역시 남구          16.0       49584129\n",
       "65   광주광역시 동구          51.0       59873785\n",
       "66   광주광역시 북구          71.0      133498437\n",
       "67   광주광역시 서구         100.0      113391932"
      ]
     },
     "execution_count": 17,
     "metadata": {},
     "output_type": "execute_result"
    }
   ],
   "source": [
    "# 열 이름 변경 (필요시)\n",
    "hotels.rename(columns={'지역명': 'region', '호텔 개수': 'hotels_count'}, inplace=True)\n",
    "visitors.rename(columns={'지자체': 'region', '방문자수': 'visitor_count'}, inplace=True)\n",
    "\n",
    "# 데이터 병합\n",
    "merged_df = pd.merge(hotels, visitors, on='region', how='right')\n",
    "\n",
    "# 병합된 데이터 확인\n",
    "merged_df = merged_df.dropna()\n",
    "merged_df.head()\n",
    "\n"
   ]
  },
  {
   "cell_type": "code",
   "execution_count": 18,
   "id": "f9baf491",
   "metadata": {},
   "outputs": [
    {
     "name": "stdout",
     "output_type": "stream",
     "text": [
      "0.04590645063131185\n",
      "0.33024439521464344\n"
     ]
    }
   ],
   "source": [
    "#숙박업소 상관계수\n",
    "from scipy.stats import pearsonr\n",
    "\n",
    "correlation, p_value = pearsonr(merged_df['hotels_count'], merged_df['visitor_count'])\n",
    "\n",
    "print(p_value)\n",
    "print(correlation)"
   ]
  },
  {
   "cell_type": "markdown",
   "id": "eab0c159",
   "metadata": {},
   "source": [
    "# 신용카드(내국인)"
   ]
  },
  {
   "cell_type": "code",
   "execution_count": 19,
   "id": "40541b8c",
   "metadata": {},
   "outputs": [],
   "source": [
    "credit_card = pd.read_csv(\"data\\신용카드 지출액_월별(내국인).csv\", encoding='utf-8')\n",
    "visitors = pd.read_csv(\"data/visit.csv\", encoding='utf-8')"
   ]
  },
  {
   "cell_type": "code",
   "execution_count": 20,
   "id": "7676445b",
   "metadata": {},
   "outputs": [
    {
     "data": {
      "text/html": [
       "<div>\n",
       "<style scoped>\n",
       "    .dataframe tbody tr th:only-of-type {\n",
       "        vertical-align: middle;\n",
       "    }\n",
       "\n",
       "    .dataframe tbody tr th {\n",
       "        vertical-align: top;\n",
       "    }\n",
       "\n",
       "    .dataframe thead th {\n",
       "        text-align: right;\n",
       "    }\n",
       "</style>\n",
       "<table border=\"1\" class=\"dataframe\">\n",
       "  <thead>\n",
       "    <tr style=\"text-align: right;\">\n",
       "      <th></th>\n",
       "      <th>기준년월</th>\n",
       "      <th>방문자 구분</th>\n",
       "      <th>방문자수</th>\n",
       "      <th>시</th>\n",
       "      <th>구</th>\n",
       "    </tr>\n",
       "  </thead>\n",
       "  <tbody>\n",
       "    <tr>\n",
       "      <th>4</th>\n",
       "      <td>202301</td>\n",
       "      <td>전체방문자(a+b+c)</td>\n",
       "      <td>8979957</td>\n",
       "      <td>강원특별자치도</td>\n",
       "      <td>춘천시</td>\n",
       "    </tr>\n",
       "    <tr>\n",
       "      <th>9</th>\n",
       "      <td>202301</td>\n",
       "      <td>전체방문자(a+b+c)</td>\n",
       "      <td>9530785</td>\n",
       "      <td>강원특별자치도</td>\n",
       "      <td>원주시</td>\n",
       "    </tr>\n",
       "    <tr>\n",
       "      <th>14</th>\n",
       "      <td>202301</td>\n",
       "      <td>전체방문자(a+b+c)</td>\n",
       "      <td>8031760</td>\n",
       "      <td>강원특별자치도</td>\n",
       "      <td>강릉시</td>\n",
       "    </tr>\n",
       "    <tr>\n",
       "      <th>19</th>\n",
       "      <td>202301</td>\n",
       "      <td>전체방문자(a+b+c)</td>\n",
       "      <td>2946561</td>\n",
       "      <td>강원특별자치도</td>\n",
       "      <td>동해시</td>\n",
       "    </tr>\n",
       "    <tr>\n",
       "      <th>24</th>\n",
       "      <td>202301</td>\n",
       "      <td>전체방문자(a+b+c)</td>\n",
       "      <td>1491579</td>\n",
       "      <td>강원특별자치도</td>\n",
       "      <td>태백시</td>\n",
       "    </tr>\n",
       "  </tbody>\n",
       "</table>\n",
       "</div>"
      ],
      "text/plain": [
       "      기준년월        방문자 구분     방문자수        시    구\n",
       "4   202301  전체방문자(a+b+c)  8979957  강원특별자치도  춘천시\n",
       "9   202301  전체방문자(a+b+c)  9530785  강원특별자치도  원주시\n",
       "14  202301  전체방문자(a+b+c)  8031760  강원특별자치도  강릉시\n",
       "19  202301  전체방문자(a+b+c)  2946561  강원특별자치도  동해시\n",
       "24  202301  전체방문자(a+b+c)  1491579  강원특별자치도  태백시"
      ]
     },
     "execution_count": 20,
     "metadata": {},
     "output_type": "execute_result"
    }
   ],
   "source": [
    "visitors = visitors[visitors['방문자 구분'] == '전체방문자(a+b+c)']\n",
    "visitors.head()"
   ]
  },
  {
   "cell_type": "code",
   "execution_count": 21,
   "id": "0a1ac297",
   "metadata": {},
   "outputs": [
    {
     "name": "stdout",
     "output_type": "stream",
     "text": [
      "        기준년월      시          지출액        방문자 구분      방문자수     구\n",
      "0     202301  부산광역시  259000000.0  전체방문자(a+b+c)   4460629    중구\n",
      "1     202301  부산광역시  259000000.0  전체방문자(a+b+c)   3276086    서구\n",
      "2     202301  부산광역시  259000000.0  전체방문자(a+b+c)   4049000    동구\n",
      "3     202301  부산광역시  259000000.0  전체방문자(a+b+c)   3434108   영도구\n",
      "4     202301  부산광역시  259000000.0  전체방문자(a+b+c)  12501184  부산진구\n",
      "...      ...    ...          ...           ...       ...   ...\n",
      "1975  202312   충청북도   79300000.0  전체방문자(a+b+c)   1320041   증평군\n",
      "1976  202312   충청북도   79300000.0  전체방문자(a+b+c)   2372011   진천군\n",
      "1977  202312   충청북도   79300000.0  전체방문자(a+b+c)   1211365   괴산군\n",
      "1978  202312   충청북도   79300000.0  전체방문자(a+b+c)   3083478   음성군\n",
      "1979  202312   충청북도   79300000.0  전체방문자(a+b+c)   1042746   단양군\n",
      "\n",
      "[1980 rows x 6 columns]\n"
     ]
    }
   ],
   "source": [
    "merged_df = pd.merge(credit_card, visitors, on=['기준년월', '시'], how='inner')\n",
    "merged_df['region'] = \n",
    "print(merged_df)\n",
    "merged_df = merged_df.dropna()"
   ]
  },
  {
   "cell_type": "code",
   "execution_count": 22,
   "id": "c3bd24a1",
   "metadata": {},
   "outputs": [
    {
     "name": "stdout",
     "output_type": "stream",
     "text": [
      "7.177144063639271e-54\n",
      "0.33823925896607404\n"
     ]
    }
   ],
   "source": [
    "#신용카드(내국인) 상관계수\n",
    "from scipy.stats import pearsonr\n",
    "\n",
    "correlation, p_value = pearsonr(merged_df['지출액'], merged_df['방문자수'])\n",
    "\n",
    "print(p_value)\n",
    "print(correlation)"
   ]
  },
  {
   "cell_type": "markdown",
   "id": "fff46180",
   "metadata": {},
   "source": [
    "# 신용카드(외국인)"
   ]
  },
  {
   "cell_type": "code",
   "execution_count": 23,
   "id": "5a03df98",
   "metadata": {},
   "outputs": [],
   "source": [
    "credit_card = pd.read_csv(\"data\\신용카드 지출액_월별(내국인).csv\", encoding='utf-8')\n",
    "visitors = pd.read_csv(\"data/visit.csv\", encoding='utf-8')"
   ]
  },
  {
   "cell_type": "code",
   "execution_count": 24,
   "id": "b1fa72a8",
   "metadata": {},
   "outputs": [
    {
     "name": "stdout",
     "output_type": "stream",
     "text": [
      "        기준년월      시          지출액        방문자 구분     방문자수    구\n",
      "0     202301  부산광역시  259000000.0     현지인방문자(a)  1179832   중구\n",
      "1     202301  부산광역시  259000000.0     외지인방문자(b)  3278177   중구\n",
      "2     202301  부산광역시  259000000.0     외국인방문자(c)     2620   중구\n",
      "3     202301  부산광역시  259000000.0    외부방문자(b+c)  3280797   중구\n",
      "4     202301  부산광역시  259000000.0  전체방문자(a+b+c)  4460629   중구\n",
      "...      ...    ...          ...           ...      ...  ...\n",
      "9895  202312   충청북도   79300000.0     현지인방문자(a)   517212  단양군\n",
      "9896  202312   충청북도   79300000.0     외지인방문자(b)   524713  단양군\n",
      "9897  202312   충청북도   79300000.0     외국인방문자(c)      821  단양군\n",
      "9898  202312   충청북도   79300000.0    외부방문자(b+c)   525534  단양군\n",
      "9899  202312   충청북도   79300000.0  전체방문자(a+b+c)  1042746  단양군\n",
      "\n",
      "[9900 rows x 6 columns]\n"
     ]
    }
   ],
   "source": [
    "merged_df = pd.merge(credit_card, visitors, on=['기준년월', '시'], how='inner')\n",
    "print(merged_df)\n",
    "merged_df = merged_df.dropna()"
   ]
  },
  {
   "cell_type": "code",
   "execution_count": 25,
   "id": "78613320",
   "metadata": {},
   "outputs": [
    {
     "name": "stdout",
     "output_type": "stream",
     "text": [
      "1.0065058743285515e-124\n",
      "0.23609729165728427\n"
     ]
    }
   ],
   "source": [
    "#신용카드(외국인) 상관계수\n",
    "from scipy.stats import pearsonr\n",
    "\n",
    "correlation, p_value = pearsonr(merged_df['지출액'], merged_df['방문자수'])\n",
    "\n",
    "print(p_value)\n",
    "print(correlation)"
   ]
  },
  {
   "cell_type": "markdown",
   "id": "beef4c40",
   "metadata": {},
   "source": [
    "# 히트맵 그리기"
   ]
  },
  {
   "cell_type": "code",
   "execution_count": 60,
   "id": "d919feba",
   "metadata": {},
   "outputs": [],
   "source": [
    "# 열 이름 변경 (필요시)\n",
    "area.rename(columns={'지역명': 'region', '관광지 수': 'average_search_rank'}, inplace=True)\n",
    "visitors.rename(columns={'지자체': 'region', '방문자수': 'visitor_count'}, inplace=True)\n",
    "\n",
    "# 데이터 병합\n",
    "df = pd.merge(area, visitors, on='region', how='right')\n",
    "df = pd.merge(df, Number, on='region', how='right')\n",
    "df = pd.merge(df,hotels,  on='region', how='right')\n",
    "\n",
    "#결측치 처리\n",
    "columns_to_fill = merged_df.columns.difference(['region'])  # region 열을 제외한 열 선택\n",
    "merged_df[columns_to_fill] = merged_df[columns_to_fill].fillna(merged_df[columns_to_fill].mean())"
   ]
  },
  {
   "cell_type": "code",
   "execution_count": 3,
   "id": "028c0a12",
   "metadata": {},
   "outputs": [],
   "source": [
    "import pandas as pd\n",
    "import seaborn as sns\n",
    "import matplotlib.pyplot as plt\n",
    "import seaborn as sns\n",
    "sns.set_theme(style='whitegrid', font_scale=1.5)\n",
    "sns.set_palette('Set2', n_colors=10)\n",
    "plt.rc('font', family='malgun gothic') #Windows: malgun gothic, Mac: AppleGothic\n",
    "plt.rc('axes', unicode_minus=False)"
   ]
  },
  {
   "cell_type": "code",
   "execution_count": 4,
   "id": "60f4c0a0",
   "metadata": {},
   "outputs": [],
   "source": [
    "df_p_value={\n",
    "    '관광명소' : 0.39420887495117274,\n",
    "    '국내여행횟수' : 0.4382053548152632,\n",
    "    '숙박업소' : 0.04590645063131185,\n",
    "    '신용카드(내국인)' : 7.177144063639271e-54,\n",
    "    '신용카드(외국인)' : 1.0065058743285515e-124,\n",
    "    '검색건수' : 0.0,\n",
    "    '검색순위' : 0.0006427976435926072,\n",
    "    'sns 언급량' : 1.3683112328549083e-26,\n",
    "    '관외 이동량' : 0.0\n",
    "}\n",
    "\n",
    "df_corr={\n",
    "    '관광명소' : 0.06846502966944251,\n",
    "    '국내여행횟수' : -0.06603917195117928,\n",
    "    '숙박업소' : 0.33024439521464344,\n",
    "    '신용카드(내국인)' : 0.33823925896607404,\n",
    "    '신용카드(외국인)' : 0.23609729165728427,\n",
    "    '검색건수' : 0.7385483893290259,\n",
    "    '검색순위' : 0.3568601743323966,\n",
    "    'sns 언급량' : 0.7038444531025007,\n",
    "    '관외 이동량' : 0.8974982725764913\n",
    "}"
   ]
  },
  {
   "cell_type": "markdown",
   "id": "6f4057c6",
   "metadata": {},
   "source": [
    "상관계수 히트맵"
   ]
  },
  {
   "cell_type": "code",
   "execution_count": 5,
   "id": "e2bcc6d8",
   "metadata": {},
   "outputs": [
    {
     "data": {
      "image/png": "[encoded data removed]",
      "text/plain": [
       "<Figure size 800x500 with 2 Axes>"
      ]
     },
     "metadata": {},
     "output_type": "display_data"
    }
   ],
   "source": [
    "# 데이터프레임 생성\n",
    "df_corr = pd.DataFrame(list(df_corr.items()), columns=['Variable', 'Correlation'])\n",
    "\n",
    "# 히트맵 그리기\n",
    "plt.figure(figsize=(8, 5))\n",
    "sns.heatmap(df_corr.set_index('Variable'), annot=True, cmap='coolwarm', center=0, fmt='.3f')\n",
    "plt.title('Correlation Heatmap')\n",
    "plt.show()"
   ]
  },
  {
   "cell_type": "markdown",
   "id": "e0ab3b63",
   "metadata": {},
   "source": [
    "p값 히트맵"
   ]
  },
  {
   "cell_type": "code",
   "execution_count": 6,
   "id": "0d9a15eb",
   "metadata": {},
   "outputs": [
    {
     "data": {
      "image/png": "[encoded data removed]",
      "text/plain": [
       "<Figure size 800x500 with 2 Axes>"
      ]
     },
     "metadata": {},
     "output_type": "display_data"
    }
   ],
   "source": [
    "# 데이터프레임 생성\n",
    "df_p_value = pd.DataFrame(list(df_p_value.items()), columns=['Variable', 'p-value'])\n",
    "\n",
    "# 히트맵 그리기\n",
    "plt.figure(figsize=(8, 5))\n",
    "sns.heatmap(df_p_value.set_index('Variable'), annot=True, cmap='coolwarm', fmt='.3e')\n",
    "plt.title('p-value Heatmap')\n",
    "plt.show()"
   ]
  },
  {
   "cell_type": "code",
   "execution_count": null,
   "id": "890f0fbf",
   "metadata": {},
   "outputs": [],
   "source": []
  }
 ],
 "metadata": {
  "kernelspec": {
   "display_name": "Python 3 (ipykernel)",
   "language": "python",
   "name": "python3"
  },
  "language_info": {
   "codemirror_mode": {
    "name": "ipython",
    "version": 3
   },
   "file_extension": ".py",
   "mimetype": "text/x-python",
   "name": "python",
   "nbconvert_exporter": "python",
   "pygments_lexer": "ipython3",
   "version": "3.11.7"
  }
 },
 "nbformat": 4,
 "nbformat_minor": 5
}
