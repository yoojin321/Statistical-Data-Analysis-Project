{
 "cells": [
  {
   "cell_type": "markdown",
   "id": "a2ba8a81",
   "metadata": {},
   "source": [
    "# 예측데이터 불러오기"
   ]
  },
  {
   "cell_type": "code",
   "execution_count": 1,
   "id": "b60a56e7-e0d8-44b8-a4a0-b5cdd8dfffbf",
   "metadata": {},
   "outputs": [],
   "source": [
    "import numpy as np\n",
    "import pandas as pd"
   ]
  },
  {
   "cell_type": "code",
   "execution_count": 2,
   "id": "81f3146f",
   "metadata": {},
   "outputs": [],
   "source": [
    "# 데이터 불러오기\n",
    "future_data1 = pd.read_csv(\"ML_Data/future_data1.csv\")\n",
    "future_data2 = pd.read_csv(\"ML_Data/future_data2.csv\")\n",
    "future_data3 = pd.read_csv(\"ML_Data/future_data3.csv\")\n",
    "real_predict = pd.read_csv(\"ML_Data/real_predict.csv\")"
   ]
  },
  {
   "cell_type": "markdown",
   "id": "af4b2ab2",
   "metadata": {},
   "source": [
    "# 예측비교"
   ]
  },
  {
   "cell_type": "code",
   "execution_count": null,
   "id": "daa6a18a",
   "metadata": {},
   "outputs": [],
   "source": []
  },
  {
   "cell_type": "markdown",
   "id": "ecb4bfef",
   "metadata": {},
   "source": [
    "학습모델1의 예측비교"
   ]
  },
  {
   "cell_type": "code",
   "execution_count": 3,
   "id": "2124fd42",
   "metadata": {},
   "outputs": [],
   "source": [
    "real_predict['모델1 예측 방문자 수 - 2024 실제 방문자 수'] = future_data1['예측 방문자수']-real_predict['방문자 수']"
   ]
  },
  {
   "cell_type": "markdown",
   "id": "6d2023ab",
   "metadata": {},
   "source": [
    "학습모델2의 예측비교"
   ]
  },
  {
   "cell_type": "code",
   "execution_count": 4,
   "id": "400de6a0",
   "metadata": {},
   "outputs": [],
   "source": [
    "real_predict['모델2 예측 방문자 수 - 2024 실제 방문자 수'] = future_data2['예측 방문자수']-real_predict['방문자 수']"
   ]
  },
  {
   "cell_type": "markdown",
   "id": "51dd52aa",
   "metadata": {},
   "source": [
    "학습모델 3의 예측비교"
   ]
  },
  {
   "cell_type": "code",
   "execution_count": 5,
   "id": "abbe1d2b",
   "metadata": {},
   "outputs": [],
   "source": [
    "real_predict['모델3 예측 방문자 수 - 2024 실제 방문자 수'] = future_data3['예측 방문자수']-real_predict['방문자 수']"
   ]
  },
  {
   "cell_type": "code",
   "execution_count": 7,
   "id": "574080dd",
   "metadata": {},
   "outputs": [],
   "source": [
    "# CSV 파일로 저장\n",
    "real_predict.to_csv('real_predict_new.csv', index=False)"
   ]
  },
  {
   "cell_type": "code",
   "execution_count": null,
   "id": "9a024175",
   "metadata": {},
   "outputs": [],
   "source": []
  }
 ],
 "metadata": {
  "kernelspec": {
   "display_name": "Python 3 (ipykernel)",
   "language": "python",
   "name": "python3"
  },
  "language_info": {
   "codemirror_mode": {
    "name": "ipython",
    "version": 3
   },
   "file_extension": ".py",
   "mimetype": "text/x-python",
   "name": "python",
   "nbconvert_exporter": "python",
   "pygments_lexer": "ipython3",
   "version": "3.11.7"
  }
 },
 "nbformat": 4,
 "nbformat_minor": 5
}
