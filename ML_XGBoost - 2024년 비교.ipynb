{
 "cells": [
  {
   "cell_type": "markdown",
   "id": "a2ba8a81",
   "metadata": {},
   "source": [
    "# 예측데이터 불러오기"
   ]
  },
  {
   "cell_type": "code",
   "execution_count": 13,
   "id": "b60a56e7-e0d8-44b8-a4a0-b5cdd8dfffbf",
   "metadata": {},
   "outputs": [],
   "source": [
    "import numpy as np\n",
    "import pandas as pd"
   ]
  },
  {
   "cell_type": "code",
   "execution_count": 32,
   "id": "81f3146f",
   "metadata": {},
   "outputs": [],
   "source": [
    "# 데이터 불러오기\n",
    "future_data1 = pd.read_csv(\"ML_Data/future_data1.csv\")\n",
    "future_data2 = pd.read_csv(\"ML_Data/future_data2.csv\")\n",
    "future_data3 = pd.read_csv(\"ML_Data/future_data3.csv\")\n",
    "real_predict = pd.read_csv(\"ML_Data/real_predict.csv\")"
   ]
  },
  {
   "cell_type": "markdown",
   "id": "af4b2ab2",
   "metadata": {},
   "source": [
    "# 예측비교"
   ]
  },
  {
   "cell_type": "code",
   "execution_count": 33,
   "id": "5997756f",
   "metadata": {},
   "outputs": [],
   "source": [
    "future_data1 = future_data1.drop(columns=['관외 이동량', '검색건수', '숙박업소 개수'])\n",
    "future_data1 = future_data1.rename(columns={'예측 방문자수': '모델1 예측 방문자수'})\n",
    "future_data2 = future_data2.drop(columns=['관외 이동량', '검색건수', '숙박업소 개수'])\n",
    "future_data2 = future_data2.rename(columns={'예측 방문자수': '모델2 예측 방문자수'})\n",
    "future_data3 = future_data3.drop(columns=['관외 이동량', '검색건수', '숙박업소 개수'])\n",
    "future_data3 = future_data3.rename(columns={'예측 방문자수': '모델3 예측 방문자수'})\n",
    "real_predict = real_predict.rename(columns={'방문자 수': '2024 실제 방문자수'})"
   ]
  },
  {
   "cell_type": "code",
   "execution_count": 34,
   "id": "f8f77ee1",
   "metadata": {},
   "outputs": [],
   "source": [
    "merged_data = pd.merge(future_data1, future_data2, on=['지역명', '일시'], how='inner')\n",
    "merged_data = pd.merge(merged_data, future_data3, on=['지역명', '일시'], how='inner')\n",
    "merged_data = pd.merge(merged_data, real_predict, on=['지역명', '일시'], how='inner')"
   ]
  },
  {
   "cell_type": "code",
   "execution_count": 35,
   "id": "6517cdb5",
   "metadata": {},
   "outputs": [
    {
     "data": {
      "text/html": [
       "<div>\n",
       "<style scoped>\n",
       "    .dataframe tbody tr th:only-of-type {\n",
       "        vertical-align: middle;\n",
       "    }\n",
       "\n",
       "    .dataframe tbody tr th {\n",
       "        vertical-align: top;\n",
       "    }\n",
       "\n",
       "    .dataframe thead th {\n",
       "        text-align: right;\n",
       "    }\n",
       "</style>\n",
       "<table border=\"1\" class=\"dataframe\">\n",
       "  <thead>\n",
       "    <tr style=\"text-align: right;\">\n",
       "      <th></th>\n",
       "      <th>일시</th>\n",
       "      <th>지역명</th>\n",
       "      <th>모델1 예측 방문자수</th>\n",
       "      <th>모델2 예측 방문자수</th>\n",
       "      <th>모델3 예측 방문자수</th>\n",
       "      <th>2024 실제 방문자수</th>\n",
       "    </tr>\n",
       "  </thead>\n",
       "  <tbody>\n",
       "    <tr>\n",
       "      <th>0</th>\n",
       "      <td>1</td>\n",
       "      <td>강원특별자치도 춘천시</td>\n",
       "      <td>8613501.0</td>\n",
       "      <td>8944691.0</td>\n",
       "      <td>9052757.0</td>\n",
       "      <td>9024519</td>\n",
       "    </tr>\n",
       "    <tr>\n",
       "      <th>1</th>\n",
       "      <td>1</td>\n",
       "      <td>강원특별자치도 원주시</td>\n",
       "      <td>9939502.0</td>\n",
       "      <td>9427674.0</td>\n",
       "      <td>9462811.0</td>\n",
       "      <td>9956163</td>\n",
       "    </tr>\n",
       "    <tr>\n",
       "      <th>2</th>\n",
       "      <td>1</td>\n",
       "      <td>강원특별자치도 강릉시</td>\n",
       "      <td>8068274.0</td>\n",
       "      <td>8160717.5</td>\n",
       "      <td>8127627.5</td>\n",
       "      <td>8218107</td>\n",
       "    </tr>\n",
       "    <tr>\n",
       "      <th>3</th>\n",
       "      <td>1</td>\n",
       "      <td>강원특별자치도 동해시</td>\n",
       "      <td>1958529.2</td>\n",
       "      <td>2049472.8</td>\n",
       "      <td>2236159.0</td>\n",
       "      <td>2874821</td>\n",
       "    </tr>\n",
       "    <tr>\n",
       "      <th>4</th>\n",
       "      <td>1</td>\n",
       "      <td>강원특별자치도 태백시</td>\n",
       "      <td>1338308.8</td>\n",
       "      <td>1275827.9</td>\n",
       "      <td>1279462.9</td>\n",
       "      <td>1546059</td>\n",
       "    </tr>\n",
       "  </tbody>\n",
       "</table>\n",
       "</div>"
      ],
      "text/plain": [
       "   일시          지역명  모델1 예측 방문자수  모델2 예측 방문자수  모델3 예측 방문자수  2024 실제 방문자수\n",
       "0   1  강원특별자치도 춘천시    8613501.0    8944691.0    9052757.0       9024519\n",
       "1   1  강원특별자치도 원주시    9939502.0    9427674.0    9462811.0       9956163\n",
       "2   1  강원특별자치도 강릉시    8068274.0    8160717.5    8127627.5       8218107\n",
       "3   1  강원특별자치도 동해시    1958529.2    2049472.8    2236159.0       2874821\n",
       "4   1  강원특별자치도 태백시    1338308.8    1275827.9    1279462.9       1546059"
      ]
     },
     "execution_count": 35,
     "metadata": {},
     "output_type": "execute_result"
    }
   ],
   "source": [
    "merged_data.head()"
   ]
  },
  {
   "cell_type": "markdown",
   "id": "ecb4bfef",
   "metadata": {},
   "source": [
    "학습모델1의 예측비교"
   ]
  },
  {
   "cell_type": "code",
   "execution_count": 42,
   "id": "2124fd42",
   "metadata": {},
   "outputs": [],
   "source": [
    "merged_data['모델1 예측 방문자 수 - 2024 실제 방문자 수'] = merged_data['모델1 예측 방문자수']-merged_data['2024 실제 방문자수']"
   ]
  },
  {
   "cell_type": "markdown",
   "id": "6d2023ab",
   "metadata": {},
   "source": [
    "학습모델2의 예측비교"
   ]
  },
  {
   "cell_type": "code",
   "execution_count": 43,
   "id": "400de6a0",
   "metadata": {},
   "outputs": [],
   "source": [
    "merged_data['모델2 예측 방문자 수 - 2024 실제 방문자 수'] = merged_data['모델2 예측 방문자수']-merged_data['2024 실제 방문자수']"
   ]
  },
  {
   "cell_type": "markdown",
   "id": "51dd52aa",
   "metadata": {},
   "source": [
    "학습모델 3의 예측비교"
   ]
  },
  {
   "cell_type": "code",
   "execution_count": 44,
   "id": "abbe1d2b",
   "metadata": {},
   "outputs": [],
   "source": [
    "merged_data['모델3 예측 방문자 수 - 2024 실제 방문자 수'] = merged_data['모델3 예측 방문자수']-merged_data['2024 실제 방문자수']"
   ]
  },
  {
   "cell_type": "code",
   "execution_count": 47,
   "id": "b07be6d2",
   "metadata": {},
   "outputs": [
    {
     "data": {
      "text/html": [
       "<div>\n",
       "<style scoped>\n",
       "    .dataframe tbody tr th:only-of-type {\n",
       "        vertical-align: middle;\n",
       "    }\n",
       "\n",
       "    .dataframe tbody tr th {\n",
       "        vertical-align: top;\n",
       "    }\n",
       "\n",
       "    .dataframe thead th {\n",
       "        text-align: right;\n",
       "    }\n",
       "</style>\n",
       "<table border=\"1\" class=\"dataframe\">\n",
       "  <thead>\n",
       "    <tr style=\"text-align: right;\">\n",
       "      <th></th>\n",
       "      <th>일시</th>\n",
       "      <th>지역명</th>\n",
       "      <th>모델1 예측 방문자수</th>\n",
       "      <th>모델2 예측 방문자수</th>\n",
       "      <th>모델3 예측 방문자수</th>\n",
       "      <th>2024 실제 방문자수</th>\n",
       "      <th>모델1 예측 방문자 수 - 2024 실제 방문자 수</th>\n",
       "      <th>모델2 예측 방문자 수 - 2024 실제 방문자 수</th>\n",
       "      <th>모델3 예측 방문자 수 - 2024 실제 방문자 수</th>\n",
       "    </tr>\n",
       "  </thead>\n",
       "  <tbody>\n",
       "    <tr>\n",
       "      <th>0</th>\n",
       "      <td>1</td>\n",
       "      <td>강원특별자치도 춘천시</td>\n",
       "      <td>8613501.0</td>\n",
       "      <td>8944691.0</td>\n",
       "      <td>9052757.0</td>\n",
       "      <td>9024519</td>\n",
       "      <td>-411018.0</td>\n",
       "      <td>-79828.0</td>\n",
       "      <td>28238.0</td>\n",
       "    </tr>\n",
       "    <tr>\n",
       "      <th>1</th>\n",
       "      <td>1</td>\n",
       "      <td>강원특별자치도 원주시</td>\n",
       "      <td>9939502.0</td>\n",
       "      <td>9427674.0</td>\n",
       "      <td>9462811.0</td>\n",
       "      <td>9956163</td>\n",
       "      <td>-16661.0</td>\n",
       "      <td>-528489.0</td>\n",
       "      <td>-493352.0</td>\n",
       "    </tr>\n",
       "    <tr>\n",
       "      <th>2</th>\n",
       "      <td>1</td>\n",
       "      <td>강원특별자치도 강릉시</td>\n",
       "      <td>8068274.0</td>\n",
       "      <td>8160717.5</td>\n",
       "      <td>8127627.5</td>\n",
       "      <td>8218107</td>\n",
       "      <td>-149833.0</td>\n",
       "      <td>-57389.5</td>\n",
       "      <td>-90479.5</td>\n",
       "    </tr>\n",
       "    <tr>\n",
       "      <th>3</th>\n",
       "      <td>1</td>\n",
       "      <td>강원특별자치도 동해시</td>\n",
       "      <td>1958529.2</td>\n",
       "      <td>2049472.8</td>\n",
       "      <td>2236159.0</td>\n",
       "      <td>2874821</td>\n",
       "      <td>-916291.8</td>\n",
       "      <td>-825348.2</td>\n",
       "      <td>-638662.0</td>\n",
       "    </tr>\n",
       "    <tr>\n",
       "      <th>4</th>\n",
       "      <td>1</td>\n",
       "      <td>강원특별자치도 태백시</td>\n",
       "      <td>1338308.8</td>\n",
       "      <td>1275827.9</td>\n",
       "      <td>1279462.9</td>\n",
       "      <td>1546059</td>\n",
       "      <td>-207750.2</td>\n",
       "      <td>-270231.1</td>\n",
       "      <td>-266596.1</td>\n",
       "    </tr>\n",
       "  </tbody>\n",
       "</table>\n",
       "</div>"
      ],
      "text/plain": [
       "   일시          지역명  모델1 예측 방문자수  모델2 예측 방문자수  모델3 예측 방문자수  2024 실제 방문자수  \\\n",
       "0   1  강원특별자치도 춘천시    8613501.0    8944691.0    9052757.0       9024519   \n",
       "1   1  강원특별자치도 원주시    9939502.0    9427674.0    9462811.0       9956163   \n",
       "2   1  강원특별자치도 강릉시    8068274.0    8160717.5    8127627.5       8218107   \n",
       "3   1  강원특별자치도 동해시    1958529.2    2049472.8    2236159.0       2874821   \n",
       "4   1  강원특별자치도 태백시    1338308.8    1275827.9    1279462.9       1546059   \n",
       "\n",
       "   모델1 예측 방문자 수 - 2024 실제 방문자 수  모델2 예측 방문자 수 - 2024 실제 방문자 수  \\\n",
       "0                     -411018.0                      -79828.0   \n",
       "1                      -16661.0                     -528489.0   \n",
       "2                     -149833.0                      -57389.5   \n",
       "3                     -916291.8                     -825348.2   \n",
       "4                     -207750.2                     -270231.1   \n",
       "\n",
       "   모델3 예측 방문자 수 - 2024 실제 방문자 수  \n",
       "0                       28238.0  \n",
       "1                     -493352.0  \n",
       "2                      -90479.5  \n",
       "3                     -638662.0  \n",
       "4                     -266596.1  "
      ]
     },
     "execution_count": 47,
     "metadata": {},
     "output_type": "execute_result"
    }
   ],
   "source": [
    "merged_data.head()"
   ]
  },
  {
   "cell_type": "code",
   "execution_count": 48,
   "id": "574080dd",
   "metadata": {},
   "outputs": [],
   "source": [
    "# CSV 파일로 저장\n",
    "merged_data.to_csv('real_predict.csv', index=False)"
   ]
  },
  {
   "cell_type": "code",
   "execution_count": null,
   "id": "9a024175",
   "metadata": {},
   "outputs": [],
   "source": []
  }
 ],
 "metadata": {
  "kernelspec": {
   "display_name": "Python 3 (ipykernel)",
   "language": "python",
   "name": "python3"
  },
  "language_info": {
   "codemirror_mode": {
    "name": "ipython",
    "version": 3
   },
   "file_extension": ".py",
   "mimetype": "text/x-python",
   "name": "python",
   "nbconvert_exporter": "python",
   "pygments_lexer": "ipython3",
   "version": "3.11.7"
  }
 },
 "nbformat": 4,
 "nbformat_minor": 5
}
