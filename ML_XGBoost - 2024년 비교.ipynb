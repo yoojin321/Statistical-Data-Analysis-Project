{
 "cells": [
  {
   "cell_type": "markdown",
   "id": "a2ba8a81",
   "metadata": {},
   "source": [
    "# 예측데이터 불러오기"
   ]
  },
  {
   "cell_type": "code",
   "execution_count": 1,
   "id": "b60a56e7-e0d8-44b8-a4a0-b5cdd8dfffbf",
   "metadata": {},
   "outputs": [],
   "source": [
    "import numpy as np\n",
    "import pandas as pd"
   ]
  },
  {
   "cell_type": "code",
   "execution_count": 2,
   "id": "81f3146f",
   "metadata": {},
   "outputs": [],
   "source": [
    "# 데이터 불러오기\n",
    "future_data1 = pd.read_csv(\"ML_Data/future_data1.csv\")\n",
    "future_data2 = pd.read_csv(\"ML_Data/future_data2.csv\")\n",
    "future_data3 = pd.read_csv(\"ML_Data/future_data3.csv\")\n",
    "real_predict = pd.read_csv(\"ML_Data/real_predict.csv\")"
   ]
  },
  {
   "cell_type": "markdown",
   "id": "af4b2ab2",
   "metadata": {},
   "source": [
    "# 예측비교"
   ]
  },
  {
   "cell_type": "code",
   "execution_count": 3,
   "id": "5997756f",
   "metadata": {},
   "outputs": [],
   "source": [
    "future_data1 = future_data1.drop(columns=['관외 이동량', '검색건수', '숙박업소 개수'])\n",
    "future_data1 = future_data1.rename(columns={'예측 방문자수': '모델1 예측 방문자수'})\n",
    "future_data2 = future_data2.drop(columns=['관외 이동량', '검색건수', '숙박업소 개수'])\n",
    "future_data2 = future_data2.rename(columns={'예측 방문자수': '모델2 예측 방문자수'})\n",
    "future_data3 = future_data3.drop(columns=['관외 이동량', '검색건수', '숙박업소 개수'])\n",
    "future_data3 = future_data3.rename(columns={'예측 방문자수': '모델3 예측 방문자수'})\n",
    "real_predict = real_predict.rename(columns={'방문자 수': '2024 실제 방문자수'})"
   ]
  },
  {
   "cell_type": "code",
   "execution_count": 4,
   "id": "f8f77ee1",
   "metadata": {},
   "outputs": [],
   "source": [
    "merged_data = pd.merge(future_data1, future_data2, on=['지역명', '일시'], how='inner')\n",
    "merged_data = pd.merge(merged_data, future_data3, on=['지역명', '일시'], how='inner')\n",
    "merged_data = pd.merge(merged_data, real_predict, on=['지역명', '일시'], how='inner')"
   ]
  },
  {
   "cell_type": "code",
   "execution_count": 5,
   "id": "6517cdb5",
   "metadata": {},
   "outputs": [
    {
     "data": {
      "text/html": [
       "<div>\n",
       "<style scoped>\n",
       "    .dataframe tbody tr th:only-of-type {\n",
       "        vertical-align: middle;\n",
       "    }\n",
       "\n",
       "    .dataframe tbody tr th {\n",
       "        vertical-align: top;\n",
       "    }\n",
       "\n",
       "    .dataframe thead th {\n",
       "        text-align: right;\n",
       "    }\n",
       "</style>\n",
       "<table border=\"1\" class=\"dataframe\">\n",
       "  <thead>\n",
       "    <tr style=\"text-align: right;\">\n",
       "      <th></th>\n",
       "      <th>일시</th>\n",
       "      <th>지역명</th>\n",
       "      <th>sns_x</th>\n",
       "      <th>모델1 예측 방문자수</th>\n",
       "      <th>sns_y</th>\n",
       "      <th>모델2 예측 방문자수</th>\n",
       "      <th>sns</th>\n",
       "      <th>모델3 예측 방문자수</th>\n",
       "      <th>2024 실제 방문자수</th>\n",
       "    </tr>\n",
       "  </thead>\n",
       "  <tbody>\n",
       "    <tr>\n",
       "      <th>0</th>\n",
       "      <td>1</td>\n",
       "      <td>강원특별자치도 춘천시</td>\n",
       "      <td>50041.916667</td>\n",
       "      <td>8602057.0</td>\n",
       "      <td>50041.916667</td>\n",
       "      <td>8686518.0</td>\n",
       "      <td>50041.916667</td>\n",
       "      <td>8356958.5</td>\n",
       "      <td>9024519</td>\n",
       "    </tr>\n",
       "    <tr>\n",
       "      <th>1</th>\n",
       "      <td>1</td>\n",
       "      <td>강원특별자치도 원주시</td>\n",
       "      <td>40661.500000</td>\n",
       "      <td>9356851.0</td>\n",
       "      <td>40661.500000</td>\n",
       "      <td>9414581.0</td>\n",
       "      <td>40661.500000</td>\n",
       "      <td>9635656.0</td>\n",
       "      <td>9956163</td>\n",
       "    </tr>\n",
       "    <tr>\n",
       "      <th>2</th>\n",
       "      <td>1</td>\n",
       "      <td>강원특별자치도 강릉시</td>\n",
       "      <td>79394.833333</td>\n",
       "      <td>7975359.0</td>\n",
       "      <td>79394.833333</td>\n",
       "      <td>8050619.5</td>\n",
       "      <td>79394.833333</td>\n",
       "      <td>8164319.5</td>\n",
       "      <td>8218107</td>\n",
       "    </tr>\n",
       "    <tr>\n",
       "      <th>3</th>\n",
       "      <td>1</td>\n",
       "      <td>강원특별자치도 동해시</td>\n",
       "      <td>5892.416667</td>\n",
       "      <td>2734153.0</td>\n",
       "      <td>5892.416667</td>\n",
       "      <td>2742047.0</td>\n",
       "      <td>5892.416667</td>\n",
       "      <td>2806386.8</td>\n",
       "      <td>2874821</td>\n",
       "    </tr>\n",
       "    <tr>\n",
       "      <th>4</th>\n",
       "      <td>1</td>\n",
       "      <td>강원특별자치도 태백시</td>\n",
       "      <td>10707.750000</td>\n",
       "      <td>1204946.2</td>\n",
       "      <td>10707.750000</td>\n",
       "      <td>1111296.0</td>\n",
       "      <td>10707.750000</td>\n",
       "      <td>1255087.6</td>\n",
       "      <td>1546059</td>\n",
       "    </tr>\n",
       "  </tbody>\n",
       "</table>\n",
       "</div>"
      ],
      "text/plain": [
       "   일시          지역명         sns_x  모델1 예측 방문자수         sns_y  모델2 예측 방문자수  \\\n",
       "0   1  강원특별자치도 춘천시  50041.916667    8602057.0  50041.916667    8686518.0   \n",
       "1   1  강원특별자치도 원주시  40661.500000    9356851.0  40661.500000    9414581.0   \n",
       "2   1  강원특별자치도 강릉시  79394.833333    7975359.0  79394.833333    8050619.5   \n",
       "3   1  강원특별자치도 동해시   5892.416667    2734153.0   5892.416667    2742047.0   \n",
       "4   1  강원특별자치도 태백시  10707.750000    1204946.2  10707.750000    1111296.0   \n",
       "\n",
       "            sns  모델3 예측 방문자수  2024 실제 방문자수  \n",
       "0  50041.916667    8356958.5       9024519  \n",
       "1  40661.500000    9635656.0       9956163  \n",
       "2  79394.833333    8164319.5       8218107  \n",
       "3   5892.416667    2806386.8       2874821  \n",
       "4  10707.750000    1255087.6       1546059  "
      ]
     },
     "execution_count": 5,
     "metadata": {},
     "output_type": "execute_result"
    }
   ],
   "source": [
    "merged_data.head()"
   ]
  },
  {
   "cell_type": "markdown",
   "id": "ecb4bfef",
   "metadata": {},
   "source": [
    "학습모델1의 예측비교"
   ]
  },
  {
   "cell_type": "code",
   "execution_count": 6,
   "id": "2124fd42",
   "metadata": {},
   "outputs": [],
   "source": [
    "merged_data['모델1 예측 방문자 수 - 2024 실제 방문자 수'] = merged_data['모델1 예측 방문자수']-merged_data['2024 실제 방문자수']"
   ]
  },
  {
   "cell_type": "markdown",
   "id": "6d2023ab",
   "metadata": {},
   "source": [
    "학습모델2의 예측비교"
   ]
  },
  {
   "cell_type": "code",
   "execution_count": 7,
   "id": "400de6a0",
   "metadata": {},
   "outputs": [],
   "source": [
    "merged_data['모델2 예측 방문자 수 - 2024 실제 방문자 수'] = merged_data['모델2 예측 방문자수']-merged_data['2024 실제 방문자수']"
   ]
  },
  {
   "cell_type": "markdown",
   "id": "51dd52aa",
   "metadata": {},
   "source": [
    "학습모델 3의 예측비교"
   ]
  },
  {
   "cell_type": "code",
   "execution_count": 8,
   "id": "abbe1d2b",
   "metadata": {},
   "outputs": [],
   "source": [
    "merged_data['모델3 예측 방문자 수 - 2024 실제 방문자 수'] = merged_data['모델3 예측 방문자수']-merged_data['2024 실제 방문자수']"
   ]
  },
  {
   "cell_type": "code",
   "execution_count": 9,
   "id": "b07be6d2",
   "metadata": {},
   "outputs": [
    {
     "data": {
      "text/html": [
       "<div>\n",
       "<style scoped>\n",
       "    .dataframe tbody tr th:only-of-type {\n",
       "        vertical-align: middle;\n",
       "    }\n",
       "\n",
       "    .dataframe tbody tr th {\n",
       "        vertical-align: top;\n",
       "    }\n",
       "\n",
       "    .dataframe thead th {\n",
       "        text-align: right;\n",
       "    }\n",
       "</style>\n",
       "<table border=\"1\" class=\"dataframe\">\n",
       "  <thead>\n",
       "    <tr style=\"text-align: right;\">\n",
       "      <th></th>\n",
       "      <th>일시</th>\n",
       "      <th>지역명</th>\n",
       "      <th>sns_x</th>\n",
       "      <th>모델1 예측 방문자수</th>\n",
       "      <th>sns_y</th>\n",
       "      <th>모델2 예측 방문자수</th>\n",
       "      <th>sns</th>\n",
       "      <th>모델3 예측 방문자수</th>\n",
       "      <th>2024 실제 방문자수</th>\n",
       "      <th>모델1 예측 방문자 수 - 2024 실제 방문자 수</th>\n",
       "      <th>모델2 예측 방문자 수 - 2024 실제 방문자 수</th>\n",
       "      <th>모델3 예측 방문자 수 - 2024 실제 방문자 수</th>\n",
       "    </tr>\n",
       "  </thead>\n",
       "  <tbody>\n",
       "    <tr>\n",
       "      <th>0</th>\n",
       "      <td>1</td>\n",
       "      <td>강원특별자치도 춘천시</td>\n",
       "      <td>50041.916667</td>\n",
       "      <td>8602057.0</td>\n",
       "      <td>50041.916667</td>\n",
       "      <td>8686518.0</td>\n",
       "      <td>50041.916667</td>\n",
       "      <td>8356958.5</td>\n",
       "      <td>9024519</td>\n",
       "      <td>-422462.0</td>\n",
       "      <td>-338001.0</td>\n",
       "      <td>-667560.5</td>\n",
       "    </tr>\n",
       "    <tr>\n",
       "      <th>1</th>\n",
       "      <td>1</td>\n",
       "      <td>강원특별자치도 원주시</td>\n",
       "      <td>40661.500000</td>\n",
       "      <td>9356851.0</td>\n",
       "      <td>40661.500000</td>\n",
       "      <td>9414581.0</td>\n",
       "      <td>40661.500000</td>\n",
       "      <td>9635656.0</td>\n",
       "      <td>9956163</td>\n",
       "      <td>-599312.0</td>\n",
       "      <td>-541582.0</td>\n",
       "      <td>-320507.0</td>\n",
       "    </tr>\n",
       "    <tr>\n",
       "      <th>2</th>\n",
       "      <td>1</td>\n",
       "      <td>강원특별자치도 강릉시</td>\n",
       "      <td>79394.833333</td>\n",
       "      <td>7975359.0</td>\n",
       "      <td>79394.833333</td>\n",
       "      <td>8050619.5</td>\n",
       "      <td>79394.833333</td>\n",
       "      <td>8164319.5</td>\n",
       "      <td>8218107</td>\n",
       "      <td>-242748.0</td>\n",
       "      <td>-167487.5</td>\n",
       "      <td>-53787.5</td>\n",
       "    </tr>\n",
       "    <tr>\n",
       "      <th>3</th>\n",
       "      <td>1</td>\n",
       "      <td>강원특별자치도 동해시</td>\n",
       "      <td>5892.416667</td>\n",
       "      <td>2734153.0</td>\n",
       "      <td>5892.416667</td>\n",
       "      <td>2742047.0</td>\n",
       "      <td>5892.416667</td>\n",
       "      <td>2806386.8</td>\n",
       "      <td>2874821</td>\n",
       "      <td>-140668.0</td>\n",
       "      <td>-132774.0</td>\n",
       "      <td>-68434.2</td>\n",
       "    </tr>\n",
       "    <tr>\n",
       "      <th>4</th>\n",
       "      <td>1</td>\n",
       "      <td>강원특별자치도 태백시</td>\n",
       "      <td>10707.750000</td>\n",
       "      <td>1204946.2</td>\n",
       "      <td>10707.750000</td>\n",
       "      <td>1111296.0</td>\n",
       "      <td>10707.750000</td>\n",
       "      <td>1255087.6</td>\n",
       "      <td>1546059</td>\n",
       "      <td>-341112.8</td>\n",
       "      <td>-434763.0</td>\n",
       "      <td>-290971.4</td>\n",
       "    </tr>\n",
       "  </tbody>\n",
       "</table>\n",
       "</div>"
      ],
      "text/plain": [
       "   일시          지역명         sns_x  모델1 예측 방문자수         sns_y  모델2 예측 방문자수  \\\n",
       "0   1  강원특별자치도 춘천시  50041.916667    8602057.0  50041.916667    8686518.0   \n",
       "1   1  강원특별자치도 원주시  40661.500000    9356851.0  40661.500000    9414581.0   \n",
       "2   1  강원특별자치도 강릉시  79394.833333    7975359.0  79394.833333    8050619.5   \n",
       "3   1  강원특별자치도 동해시   5892.416667    2734153.0   5892.416667    2742047.0   \n",
       "4   1  강원특별자치도 태백시  10707.750000    1204946.2  10707.750000    1111296.0   \n",
       "\n",
       "            sns  모델3 예측 방문자수  2024 실제 방문자수  모델1 예측 방문자 수 - 2024 실제 방문자 수  \\\n",
       "0  50041.916667    8356958.5       9024519                     -422462.0   \n",
       "1  40661.500000    9635656.0       9956163                     -599312.0   \n",
       "2  79394.833333    8164319.5       8218107                     -242748.0   \n",
       "3   5892.416667    2806386.8       2874821                     -140668.0   \n",
       "4  10707.750000    1255087.6       1546059                     -341112.8   \n",
       "\n",
       "   모델2 예측 방문자 수 - 2024 실제 방문자 수  모델3 예측 방문자 수 - 2024 실제 방문자 수  \n",
       "0                     -338001.0                     -667560.5  \n",
       "1                     -541582.0                     -320507.0  \n",
       "2                     -167487.5                      -53787.5  \n",
       "3                     -132774.0                      -68434.2  \n",
       "4                     -434763.0                     -290971.4  "
      ]
     },
     "execution_count": 9,
     "metadata": {},
     "output_type": "execute_result"
    }
   ],
   "source": [
    "merged_data.head()"
   ]
  },
  {
   "cell_type": "code",
   "execution_count": 10,
   "id": "574080dd",
   "metadata": {},
   "outputs": [],
   "source": [
    "# CSV 파일로 저장\n",
    "merged_data.to_csv('real_predict.csv', index=False)"
   ]
  },
  {
   "cell_type": "code",
   "execution_count": null,
   "id": "9a024175",
   "metadata": {},
   "outputs": [],
   "source": []
  }
 ],
 "metadata": {
  "kernelspec": {
   "display_name": "Python 3 (ipykernel)",
   "language": "python",
   "name": "python3"
  },
  "language_info": {
   "codemirror_mode": {
    "name": "ipython",
    "version": 3
   },
   "file_extension": ".py",
   "mimetype": "text/x-python",
   "name": "python",
   "nbconvert_exporter": "python",
   "pygments_lexer": "ipython3",
   "version": "3.11.7"
  }
 },
 "nbformat": 4,
 "nbformat_minor": 5
}
